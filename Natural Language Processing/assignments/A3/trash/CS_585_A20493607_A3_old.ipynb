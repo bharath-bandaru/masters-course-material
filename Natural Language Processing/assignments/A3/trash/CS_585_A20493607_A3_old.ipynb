{
 "cells": [
  {
   "cell_type": "code",
   "execution_count": 14,
   "id": "3df8118e",
   "metadata": {},
   "outputs": [
    {
     "name": "stdout",
     "output_type": "stream",
     "text": [
      "twitter_topic_lockdowns.csv\n",
      "True Count: 55 False count 1140 \n",
      "\n",
      "twitter_topic_masking_and_distancing.csv\n",
      "True Count: 267 False count 928 \n",
      "\n",
      "change.org_topic_masking_and_distancing.csv\n",
      "True Count: 62 False count 1438 \n",
      "\n",
      "change.org_topic_lockdowns.csv\n",
      "True Count: 439 False count 1061 \n",
      "\n",
      "change.org_topic_final_label.csv\n",
      "True Count: 0 False count 0 \n",
      "\n",
      "twitter_topic_vaccination.csv\n",
      "True Count: 687 False count 508 \n",
      "\n",
      "twitter_final_label.csv\n",
      "True Count: 0 False count 0 \n",
      "\n",
      "change.org_topic_vaccination.csv\n",
      "True Count: 26 False count 1474 \n",
      "\n"
     ]
    }
   ],
   "source": [
    "import pandas as pd\n",
    "import matplotlib.pyplot as plt\n",
    "import os\n",
    "\n",
    "os.chdir(\"/Users/BharathBandaru/Desktop/Assignments/NLP/A3/A_2_output\")\n",
    "fl = os.listdir()\n",
    "df_list = []\n",
    "for i in fl:\n",
    "    print(i)\n",
    "    df = pd.read_csv(i)\n",
    "    df_list.append(df)\n",
    "    #print(df.describe())\n",
    "    a = list(df.label)\n",
    "    print(\"True Count: {0} False count {1}\".format(\n",
    "        a.count(True), a.count(False)),\"\\n\")"
   ]
  },
  {
   "cell_type": "code",
   "execution_count": 15,
   "id": "3049bc7e",
   "metadata": {},
   "outputs": [
    {
     "name": "stdout",
     "output_type": "stream",
     "text": [
      "Shape of the data:  (1195, 2)\n"
     ]
    },
    {
     "data": {
      "text/html": [
       "<div>\n",
       "<style scoped>\n",
       "    .dataframe tbody tr th:only-of-type {\n",
       "        vertical-align: middle;\n",
       "    }\n",
       "\n",
       "    .dataframe tbody tr th {\n",
       "        vertical-align: top;\n",
       "    }\n",
       "\n",
       "    .dataframe thead th {\n",
       "        text-align: right;\n",
       "    }\n",
       "</style>\n",
       "<table border=\"1\" class=\"dataframe\">\n",
       "  <thead>\n",
       "    <tr style=\"text-align: right;\">\n",
       "      <th></th>\n",
       "      <th>text</th>\n",
       "      <th>label</th>\n",
       "    </tr>\n",
       "  </thead>\n",
       "  <tbody>\n",
       "    <tr>\n",
       "      <th>0</th>\n",
       "      <td>Putin After Announcing #CovidVaccine #Russian ...</td>\n",
       "      <td>True</td>\n",
       "    </tr>\n",
       "    <tr>\n",
       "      <th>1</th>\n",
       "      <td>Courtesy: WA! #WhatsApp #COVID #CovidVaccine h...</td>\n",
       "      <td>True</td>\n",
       "    </tr>\n",
       "    <tr>\n",
       "      <th>2</th>\n",
       "      <td>4 of the vaccines Jared bought are expected to...</td>\n",
       "      <td>True</td>\n",
       "    </tr>\n",
       "    <tr>\n",
       "      <th>3</th>\n",
       "      <td>One day you will realize CDC Guidelines magica...</td>\n",
       "      <td>False</td>\n",
       "    </tr>\n",
       "    <tr>\n",
       "      <th>4</th>\n",
       "      <td>Im far from lying.  Current CDC guidelines is ...</td>\n",
       "      <td>True</td>\n",
       "    </tr>\n",
       "  </tbody>\n",
       "</table>\n",
       "</div>"
      ],
      "text/plain": [
       "                                                text  label\n",
       "0  Putin After Announcing #CovidVaccine #Russian ...   True\n",
       "1  Courtesy: WA! #WhatsApp #COVID #CovidVaccine h...   True\n",
       "2  4 of the vaccines Jared bought are expected to...   True\n",
       "3  One day you will realize CDC Guidelines magica...  False\n",
       "4  Im far from lying.  Current CDC guidelines is ...   True"
      ]
     },
     "execution_count": 15,
     "metadata": {},
     "output_type": "execute_result"
    }
   ],
   "source": [
    "import numpy\n",
    "import pandas as pd\n",
    "\n",
    "#we choose vaccination\n",
    "df = pd.read_csv(\"/Users/BharathBandaru/Desktop/Assignments/NLP/A3/A_2_output/twitter_topic_vaccination.csv\")\n",
    "print('Shape of the data: ', df.shape)\n",
    "df.head()"
   ]
  },
  {
   "cell_type": "code",
   "execution_count": 16,
   "id": "0e577683",
   "metadata": {},
   "outputs": [
    {
     "name": "stderr",
     "output_type": "stream",
     "text": [
      "[nltk_data] Downloading package punkt to\n",
      "[nltk_data]     /Users/BharathBandaru/nltk_data...\n",
      "[nltk_data]   Package punkt is already up-to-date!\n",
      "[nltk_data] Downloading package stopwords to\n",
      "[nltk_data]     /Users/BharathBandaru/nltk_data...\n",
      "[nltk_data]   Package stopwords is already up-to-date!\n"
     ]
    }
   ],
   "source": [
    "#text pre-processing imports\n",
    "\n",
    "import re\n",
    "import nltk\n",
    "\n",
    "nltk.download('punkt')\n",
    "from nltk.tokenize import word_tokenize as wt \n",
    "\n",
    "nltk.download('stopwords')\n",
    "from nltk.corpus import stopwords\n",
    "\n",
    "from nltk.stem.porter import PorterStemmer\n",
    "stemmer = PorterStemmer()\n",
    "\n",
    "from sklearn.linear_model import LogisticRegression\n",
    "\n",
    "#spell correction\n",
    "from autocorrect import Speller\n",
    "\n",
    "spell = Speller(lang='en')"
   ]
  },
  {
   "cell_type": "code",
   "execution_count": 17,
   "id": "f0cd6dd9",
   "metadata": {},
   "outputs": [],
   "source": [
    "#text pre-processing\n",
    "data = []\n",
    "\n",
    "for i in range(df.shape[0]):\n",
    "    txt = df.iloc[i, 0]\n",
    "    \n",
    "    #remove alphabets\n",
    "    txt = re.sub('[^A-Za-z]', ' ', txt)\n",
    "    \n",
    "    txt = txt.lower()\n",
    "    \n",
    "    tokenized_txts = wt(txt)\n",
    "    \n",
    "    text_processed = []\n",
    "    for word in tokenized_txts:\n",
    "        if word not in set(stopwords.words('english')):\n",
    "            text_processed.append(spell(stemmer.stem(word)))\n",
    "            \n",
    "    final_text = \" \".join(text_processed)\n",
    "    data.append(final_text)"
   ]
  },
  {
   "cell_type": "code",
   "execution_count": 18,
   "id": "231d2d3a",
   "metadata": {},
   "outputs": [],
   "source": [
    "sec_df = pd.read_csv(\"/Users/BharathBandaru/Desktop/Assignments/NLP/A3/A_2_output/change.org_topic_vaccination.csv\")"
   ]
  },
  {
   "cell_type": "code",
   "execution_count": 19,
   "id": "470864f7",
   "metadata": {},
   "outputs": [],
   "source": [
    "#SECONDARY DATA\n",
    "sec_data = []\n",
    "\n",
    "for i in range(sec_df.shape[0]):\n",
    "    txt = sec_df.iloc[i, 0]\n",
    "    \n",
    "    #remove alphabets\n",
    "    txt = re.sub('[^A-Za-z]', ' ', txt)\n",
    "    \n",
    "    txt = txt.lower()\n",
    "    \n",
    "    tokenized_txts = wt(txt)\n",
    "    \n",
    "    text_processed = []\n",
    "    for word in tokenized_txts:\n",
    "        if word not in set(stopwords.words('english')):\n",
    "            text_processed.append(spell(stemmer.stem(word)))\n",
    "            \n",
    "    final_text = \" \".join(text_processed)\n",
    "    sec_data.append(final_text)"
   ]
  },
  {
   "cell_type": "code",
   "execution_count": 20,
   "id": "0fd472e5",
   "metadata": {
    "scrolled": true
   },
   "outputs": [],
   "source": [
    "# creating the feature matrix \n",
    "from sklearn.feature_extraction.text import CountVectorizer\n",
    "\n",
    "matrix = CountVectorizer(max_features=1000)\n",
    "X = matrix.fit_transform(data).toarray()\n",
    "y = df.iloc[:, 1]"
   ]
  },
  {
   "cell_type": "code",
   "execution_count": 21,
   "id": "ed519e7d",
   "metadata": {},
   "outputs": [
    {
     "name": "stdout",
     "output_type": "stream",
     "text": [
      "896\n",
      "299\n"
     ]
    }
   ],
   "source": [
    "# split train and test data\n",
    "from sklearn.model_selection import train_test_split\n",
    "X_train, X_test, y_train, y_test = train_test_split(X, y)\n",
    "\n",
    "X_test_sec = matrix.fit_transform(sec_data).toarray()\n",
    "y_test_sec = sec_df.iloc[:, 1]\n",
    "\n",
    "print(len(X_train))\n",
    "print(len(X_test))"
   ]
  },
  {
   "cell_type": "code",
   "execution_count": 22,
   "id": "f2d6c1c9",
   "metadata": {},
   "outputs": [],
   "source": [
    "lr_model = LogisticRegression(penalty=\"none\", \n",
    "                              multi_class=\"multinomial\",\n",
    "                              solver=\"lbfgs\").fit(X_train, y_train)\n",
    "y_lr_test = lr_model.predict(X_test)\n",
    "y_lr_sec_test = lr_model.predict(X_test_sec)"
   ]
  },
  {
   "cell_type": "code",
   "execution_count": 24,
   "id": "d676fe3d",
   "metadata": {},
   "outputs": [
    {
     "name": "stdout",
     "output_type": "stream",
     "text": [
      "              precision    recall  f1-score   support\n",
      "\n",
      "       False       0.91      0.84      0.87       143\n",
      "        True       0.86      0.92      0.89       156\n",
      "\n",
      "    accuracy                           0.88       299\n",
      "   macro avg       0.89      0.88      0.88       299\n",
      "weighted avg       0.88      0.88      0.88       299\n",
      "\n",
      "ACCURACY:  0.882943143812709\n"
     ]
    }
   ],
   "source": [
    "#PRIMARY TEST\n",
    "from sklearn.metrics import confusion_matrix, classification_report, accuracy_score\n",
    "print(classification_report(y_test, y_lr_test))\n",
    "print(\"ACCURACY: \",accuracy_score(y_test, y_lr_test))"
   ]
  },
  {
   "cell_type": "code",
   "execution_count": 25,
   "id": "8408c3c5",
   "metadata": {},
   "outputs": [
    {
     "name": "stdout",
     "output_type": "stream",
     "text": [
      "              precision    recall  f1-score   support\n",
      "\n",
      "       False       0.99      0.57      0.72      1474\n",
      "        True       0.02      0.54      0.04        26\n",
      "\n",
      "    accuracy                           0.56      1500\n",
      "   macro avg       0.50      0.55      0.38      1500\n",
      "weighted avg       0.97      0.56      0.71      1500\n",
      "\n",
      "ACCURACY:  0.5646666666666667\n"
     ]
    }
   ],
   "source": [
    "#SECONDARY\n",
    "print(classification_report(y_test_sec, y_lr_sec_test))\n",
    "print(\"ACCURACY: \",accuracy_score(y_test_sec, y_lr_sec_test))"
   ]
  },
  {
   "cell_type": "code",
   "execution_count": 26,
   "id": "ab3ae25a",
   "metadata": {},
   "outputs": [],
   "source": [
    "lr2_model = LogisticRegression(penalty=\"l2\", \n",
    "                               solver=\"lbfgs\",\n",
    "                               multi_class=\"multinomial\",\n",
    "                               max_iter=1000,\n",
    "                               C=10).fit(X_train, y_train)\n",
    "y_lr2_test = lr2_model.predict(X_test)\n",
    "y_lr2_sec_test = lr2_model.predict(X_test_sec)"
   ]
  },
  {
   "cell_type": "code",
   "execution_count": 27,
   "id": "a01e94ce",
   "metadata": {},
   "outputs": [
    {
     "name": "stdout",
     "output_type": "stream",
     "text": [
      "              precision    recall  f1-score   support\n",
      "\n",
      "       False       0.91      0.88      0.89       143\n",
      "        True       0.89      0.92      0.91       156\n",
      "\n",
      "    accuracy                           0.90       299\n",
      "   macro avg       0.90      0.90      0.90       299\n",
      "weighted avg       0.90      0.90      0.90       299\n",
      "\n",
      "ACCURACY:  0.8996655518394648\n"
     ]
    }
   ],
   "source": [
    "#PRIMARY TEST\n",
    "print(classification_report(y_test, y_lr2_test))\n",
    "print(\"ACCURACY: \",accuracy_score(y_test, y_lr2_test))"
   ]
  },
  {
   "cell_type": "code",
   "execution_count": 28,
   "id": "0cff875e",
   "metadata": {},
   "outputs": [
    {
     "name": "stdout",
     "output_type": "stream",
     "text": [
      "              precision    recall  f1-score   support\n",
      "\n",
      "       False       0.98      0.83      0.90      1474\n",
      "        True       0.02      0.23      0.04        26\n",
      "\n",
      "    accuracy                           0.82      1500\n",
      "   macro avg       0.50      0.53      0.47      1500\n",
      "weighted avg       0.97      0.82      0.89      1500\n",
      "\n",
      "ACCURACY:  0.8213333333333334\n"
     ]
    }
   ],
   "source": [
    "#SECONDARY\n",
    "print(classification_report(y_test_sec, y_lr2_sec_test))\n",
    "print(\"ACCURACY: \",accuracy_score(y_test_sec, y_lr2_sec_test))"
   ]
  },
  {
   "cell_type": "code",
   "execution_count": 29,
   "id": "aa28360f",
   "metadata": {},
   "outputs": [
    {
     "data": {
      "text/plain": [
       "GaussianNB()"
      ]
     },
     "execution_count": 29,
     "metadata": {},
     "output_type": "execute_result"
    }
   ],
   "source": [
    "# Naive Bayes \n",
    "from sklearn.naive_bayes import GaussianNB\n",
    "classifier = GaussianNB()\n",
    "classifier.fit(X_train, y_train)"
   ]
  },
  {
   "cell_type": "code",
   "execution_count": 30,
   "id": "5588efdd",
   "metadata": {},
   "outputs": [],
   "source": [
    "# predict class\n",
    "y_pred = classifier.predict(X_test)\n",
    "sec_y_pred = classifier.predict(X_test_sec)"
   ]
  },
  {
   "cell_type": "code",
   "execution_count": 31,
   "id": "81d9c321",
   "metadata": {},
   "outputs": [],
   "source": [
    "# Confusion matrix\n",
    "from sklearn.metrics import confusion_matrix, classification_report, accuracy_score\n",
    "cm = confusion_matrix(y_test, y_pred)\n",
    "cr = classification_report(y_test, y_pred)\n",
    "\n",
    "sec_cm = confusion_matrix(y_test_sec, sec_y_pred)\n",
    "sec_cr = classification_report(y_test_sec, sec_y_pred)"
   ]
  },
  {
   "cell_type": "code",
   "execution_count": 32,
   "id": "ed5e4da9",
   "metadata": {},
   "outputs": [
    {
     "name": "stdout",
     "output_type": "stream",
     "text": [
      "0.6755852842809364\n"
     ]
    }
   ],
   "source": [
    "#accuracy of primary test data\n",
    "accuracy = accuracy_score(y_test, y_pred)\n",
    "print(accuracy)"
   ]
  },
  {
   "cell_type": "code",
   "execution_count": 33,
   "id": "c8362464",
   "metadata": {},
   "outputs": [
    {
     "name": "stdout",
     "output_type": "stream",
     "text": [
      "0.4706666666666667\n"
     ]
    }
   ],
   "source": [
    "#accuracy of secondary test data\n",
    "sec_data_accuracy = accuracy_score(y_test_sec, sec_y_pred)\n",
    "print(sec_data_accuracy)"
   ]
  },
  {
   "cell_type": "code",
   "execution_count": 65,
   "id": "9b3284ad",
   "metadata": {},
   "outputs": [
    {
     "name": "stdout",
     "output_type": "stream",
     "text": [
      "(896,)\n",
      "(299,)\n",
      "(896,)\n",
      "(299,)\n"
     ]
    }
   ],
   "source": [
    "X_df_train, X_df_test, y_train_2, y_test_2 = train_test_split(df[\"text\"],y)\n",
    "\n",
    "print(X_df_train.shape)\n",
    "print(X_df_test.shape)\n",
    "print(y_train_2.shape)\n",
    "print(y_test_2.shape)"
   ]
  },
  {
   "cell_type": "code",
   "execution_count": 53,
   "id": "0ab39707",
   "metadata": {},
   "outputs": [],
   "source": [
    "from sklearn.feature_extraction.text import TfidfVectorizer\n",
    "vectorizer = TfidfVectorizer(min_df=3, stop_words=\"english\").fit(X_df_train)\n",
    "X_train_2 = vectorizer.transform(X_df_train)\n",
    "X_test_2 = vectorizer.transform(X_df_test)"
   ]
  },
  {
   "cell_type": "code",
   "execution_count": 54,
   "id": "b3fe92a3",
   "metadata": {},
   "outputs": [
    {
     "name": "stdout",
     "output_type": "stream",
     "text": [
      "CPU times: user 122 ms, sys: 12.4 ms, total: 134 ms\n",
      "Wall time: 206 ms\n"
     ]
    }
   ],
   "source": [
    "lr_model_tt = LogisticRegression(penalty=\"none\", \n",
    "                              multi_class=\"multinomial\",\n",
    "                              solver=\"lbfgs\").fit(X_train_2, y_train_2)\n",
    "y_pred_lr_test_2 = lr_model_tt.predict(X_test_2)"
   ]
  },
  {
   "cell_type": "code",
   "execution_count": 57,
   "id": "a13950c0",
   "metadata": {},
   "outputs": [
    {
     "name": "stdout",
     "output_type": "stream",
     "text": [
      "              precision    recall  f1-score   support\n",
      "\n",
      "       False       0.86      0.83      0.85       137\n",
      "        True       0.86      0.89      0.88       162\n",
      "\n",
      "    accuracy                           0.86       299\n",
      "   macro avg       0.86      0.86      0.86       299\n",
      "weighted avg       0.86      0.86      0.86       299\n",
      "\n",
      "ACCURACY:  0.862876254180602\n"
     ]
    }
   ],
   "source": [
    "print(classification_report(y_test_2, y_pred_lr_test_2))\n",
    "print(\"ACCURACY: \",accuracy_score(y_test_2, y_pred_lr_test_2))"
   ]
  },
  {
   "cell_type": "code",
   "execution_count": 111,
   "id": "95ff694f",
   "metadata": {},
   "outputs": [
    {
     "data": {
      "text/html": [
       "<div>\n",
       "<style scoped>\n",
       "    .dataframe tbody tr th:only-of-type {\n",
       "        vertical-align: middle;\n",
       "    }\n",
       "\n",
       "    .dataframe tbody tr th {\n",
       "        vertical-align: top;\n",
       "    }\n",
       "\n",
       "    .dataframe thead th {\n",
       "        text-align: right;\n",
       "    }\n",
       "</style>\n",
       "<table border=\"1\" class=\"dataframe\">\n",
       "  <thead>\n",
       "    <tr style=\"text-align: right;\">\n",
       "      <th></th>\n",
       "      <th>text</th>\n",
       "      <th>label</th>\n",
       "    </tr>\n",
       "  </thead>\n",
       "  <tbody>\n",
       "    <tr>\n",
       "      <th>0</th>\n",
       "      <td>Putin After Announcing #CovidVaccine #Russian ...</td>\n",
       "      <td>1</td>\n",
       "    </tr>\n",
       "    <tr>\n",
       "      <th>1</th>\n",
       "      <td>Courtesy: WA! #WhatsApp #COVID #CovidVaccine h...</td>\n",
       "      <td>1</td>\n",
       "    </tr>\n",
       "    <tr>\n",
       "      <th>2</th>\n",
       "      <td>4 of the vaccines Jared bought are expected to...</td>\n",
       "      <td>1</td>\n",
       "    </tr>\n",
       "    <tr>\n",
       "      <th>3</th>\n",
       "      <td>One day you will realize CDC Guidelines magica...</td>\n",
       "      <td>0</td>\n",
       "    </tr>\n",
       "    <tr>\n",
       "      <th>4</th>\n",
       "      <td>Im far from lying.  Current CDC guidelines is ...</td>\n",
       "      <td>1</td>\n",
       "    </tr>\n",
       "  </tbody>\n",
       "</table>\n",
       "</div>"
      ],
      "text/plain": [
       "                                                text  label\n",
       "0  Putin After Announcing #CovidVaccine #Russian ...      1\n",
       "1  Courtesy: WA! #WhatsApp #COVID #CovidVaccine h...      1\n",
       "2  4 of the vaccines Jared bought are expected to...      1\n",
       "3  One day you will realize CDC Guidelines magica...      0\n",
       "4  Im far from lying.  Current CDC guidelines is ...      1"
      ]
     },
     "execution_count": 111,
     "metadata": {},
     "output_type": "execute_result"
    }
   ],
   "source": [
    "df[\"label\"] = df[\"label\"].astype(int)\n",
    "df.head()"
   ]
  },
  {
   "cell_type": "code",
   "execution_count": 116,
   "id": "b7118974",
   "metadata": {},
   "outputs": [
    {
     "data": {
      "text/plain": [
       "(896, 2)"
      ]
     },
     "execution_count": 116,
     "metadata": {},
     "output_type": "execute_result"
    }
   ],
   "source": [
    "df_train, df_test = train_test_split(df)\n",
    "df_train.shape"
   ]
  },
  {
   "cell_type": "code",
   "execution_count": 117,
   "id": "d4a63b63",
   "metadata": {},
   "outputs": [
    {
     "data": {
      "text/plain": [
       "(299, 2)"
      ]
     },
     "execution_count": 117,
     "metadata": {},
     "output_type": "execute_result"
    }
   ],
   "source": [
    "df_test.shape"
   ]
  },
  {
   "cell_type": "code",
   "execution_count": 172,
   "id": "ec8e78c2",
   "metadata": {},
   "outputs": [],
   "source": [
    "# feature engineering\n",
    "from sklearn.feature_extraction.text import TfidfTransformer\n",
    "\n",
    "count_vect = CountVectorizer(max_features=1000)\n",
    "X_counts = count_vect.fit_transform(df.text)\n",
    "\n",
    "# Transform counts to tf*idf vector\n",
    "tf_transformer = TfidfTransformer(use_idf=False).fit(X_counts)\n",
    "X_tf = tf_transformer.transform(X_counts)\n",
    "\n"
   ]
  },
  {
   "cell_type": "code",
   "execution_count": 173,
   "id": "a25ce4ea",
   "metadata": {},
   "outputs": [],
   "source": [
    "df_train, df_test = train_test_split(df)\n",
    "X_train, X_test, y_train, y_test = train_test_split(X_tf, df.label)"
   ]
  },
  {
   "cell_type": "code",
   "execution_count": 174,
   "id": "1cb11055",
   "metadata": {},
   "outputs": [],
   "source": [
    "def feature_function(text):\n",
    "    return int(\"vaccin\" in text)\n",
    "train_new_feature_array = df_train.text.apply(feature_function)\n",
    "test_new_feature_array = df_test.text.apply(feature_function)\n"
   ]
  },
  {
   "cell_type": "code",
   "execution_count": 154,
   "id": "2d816566",
   "metadata": {},
   "outputs": [
    {
     "name": "stderr",
     "output_type": "stream",
     "text": [
      "/Users/BharathBandaru/opt/anaconda3/lib/python3.8/site-packages/sklearn/utils/validation.py:585: FutureWarning: np.matrix usage is deprecated in 1.0 and will raise a TypeError in 1.2. Please convert to a numpy array with np.asarray. For more information see: https://numpy.org/doc/stable/reference/generated/numpy.matrix.html\n",
      "  warnings.warn(\n"
     ]
    },
    {
     "data": {
      "text/plain": [
       "RandomForestClassifier()"
      ]
     },
     "execution_count": 154,
     "metadata": {},
     "output_type": "execute_result"
    }
   ],
   "source": [
    "from sklearn.ensemble import RandomForestClassifier\n",
    "import numpy as np\n",
    "# Add new feature to the document representation\n",
    "X_train_final = np.insert(X_train.todense(), X_train.shape[1], train_new_feature_array, axis=1)\n",
    "X_test_final = np.insert(X_test.todense(), X_test.shape[1], test_new_feature_array, axis=1)\n",
    "# Train a text categorization model\n",
    "clf = RandomForestClassifier()\n",
    "clf.fit(X_train_final, df_train.label)\n"
   ]
  },
  {
   "cell_type": "code",
   "execution_count": 155,
   "id": "93042c2c",
   "metadata": {},
   "outputs": [
    {
     "name": "stderr",
     "output_type": "stream",
     "text": [
      "/Users/BharathBandaru/opt/anaconda3/lib/python3.8/site-packages/sklearn/utils/validation.py:585: FutureWarning: np.matrix usage is deprecated in 1.0 and will raise a TypeError in 1.2. Please convert to a numpy array with np.asarray. For more information see: https://numpy.org/doc/stable/reference/generated/numpy.matrix.html\n",
      "  warnings.warn(\n"
     ]
    }
   ],
   "source": [
    "\n",
    "pred = clf.predict(X_test_final)"
   ]
  },
  {
   "cell_type": "code",
   "execution_count": 156,
   "id": "d6d257ef",
   "metadata": {},
   "outputs": [
    {
     "data": {
      "text/plain": [
       "0.7090301003344481"
      ]
     },
     "execution_count": 156,
     "metadata": {},
     "output_type": "execute_result"
    }
   ],
   "source": [
    "accuracy_score(df_test.label,pred)"
   ]
  },
  {
   "cell_type": "code",
   "execution_count": 164,
   "id": "6f296323",
   "metadata": {},
   "outputs": [
    {
     "name": "stderr",
     "output_type": "stream",
     "text": [
      "/Users/BharathBandaru/opt/anaconda3/lib/python3.8/site-packages/sklearn/utils/validation.py:585: FutureWarning: np.matrix usage is deprecated in 1.0 and will raise a TypeError in 1.2. Please convert to a numpy array with np.asarray. For more information see: https://numpy.org/doc/stable/reference/generated/numpy.matrix.html\n",
      "  warnings.warn(\n"
     ]
    }
   ],
   "source": [
    "lr2_model_fea = LogisticRegression(penalty=\"l2\", \n",
    "                               solver=\"lbfgs\",\n",
    "                               multi_class=\"multinomial\",\n",
    "                               max_iter=1001,\n",
    "                               C=10).fit(X_train_final, df_train.label)"
   ]
  },
  {
   "cell_type": "code",
   "execution_count": 165,
   "id": "60fe77ff",
   "metadata": {},
   "outputs": [
    {
     "name": "stdout",
     "output_type": "stream",
     "text": [
      "ACCURACY:  0.6889632107023411\n"
     ]
    },
    {
     "name": "stderr",
     "output_type": "stream",
     "text": [
      "/Users/BharathBandaru/opt/anaconda3/lib/python3.8/site-packages/sklearn/utils/validation.py:585: FutureWarning: np.matrix usage is deprecated in 1.0 and will raise a TypeError in 1.2. Please convert to a numpy array with np.asarray. For more information see: https://numpy.org/doc/stable/reference/generated/numpy.matrix.html\n",
      "  warnings.warn(\n"
     ]
    }
   ],
   "source": [
    "y_lr2_test_fea = lr2_model_fea.predict(X_test_final)\n",
    "print(\"ACCURACY: \",accuracy_score(df_test.label, y_lr2_test_fea))"
   ]
  }
 ],
 "metadata": {
  "interpreter": {
   "hash": "d1a008fcbafda014ccbff718c36579044168392f5b4cc711d4367b65ab8fc3b7"
  },
  "kernelspec": {
   "display_name": "Python [conda env:root] *",
   "language": "python",
   "name": "conda-root-py"
  },
  "language_info": {
   "codemirror_mode": {
    "name": "ipython",
    "version": 3
   },
   "file_extension": ".py",
   "mimetype": "text/x-python",
   "name": "python",
   "nbconvert_exporter": "python",
   "pygments_lexer": "ipython3",
   "version": "3.8.8"
  }
 },
 "nbformat": 4,
 "nbformat_minor": 5
}
