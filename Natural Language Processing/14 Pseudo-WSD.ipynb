{
 "cells": [
  {
   "cell_type": "markdown",
   "metadata": {},
   "source": [
    "# Pseudo-word disambiguation\n",
    "\n",
    "Demonstration of the \"pseudo word disambiguation\" task, in which two real words are conflated into a single \"pseudo-word\", and the task is to recover which word actually occurred given the context."
   ]
  },
  {
   "cell_type": "code",
   "execution_count": null,
   "metadata": {},
   "outputs": [],
   "source": [
    "from random import random\n",
    "from nltk.corpus import brown\n",
    "import nltk"
   ]
  },
  {
   "cell_type": "code",
   "execution_count": null,
   "metadata": {},
   "outputs": [],
   "source": [
    "conc = nltk.text.ConcordanceIndex(brown.words())"
   ]
  },
  {
   "cell_type": "code",
   "execution_count": null,
   "metadata": {},
   "outputs": [],
   "source": [
    "def pseudo_wsd_test(word1, word2):\n",
    "    pseudo_word = (word1 + \"|\" + word2).upper()\n",
    "    lines1 = sorted(conc.find_concordance(word1), key=lambda x: random())\n",
    "    lines2 = sorted(conc.find_concordance(word2), key=lambda x: random())\n",
    "    while lines1 and lines2:\n",
    "        if random() < 0.5:\n",
    "            w = word1\n",
    "            context = lines1.pop()\n",
    "        else:\n",
    "            w = word2\n",
    "            context = lines2.pop()\n",
    "        display = context.left_print[-25:] \\\n",
    "            + \" \" + pseudo_word + \" \" \\\n",
    "            + context.right_print[:25]\n",
    "        print(\"> \" + display)\n",
    "        print(\"Your guess?\")\n",
    "        answer = input()\n",
    "        if answer not in [word1, word2]:\n",
    "            print(\"exiting...\")\n",
    "            break\n",
    "        elif w == answer:\n",
    "            print(\"Correct!\\n\")\n",
    "        else:\n",
    "            print(\"Incorrect.\\n\")"
   ]
  },
  {
   "cell_type": "code",
   "execution_count": null,
   "metadata": {},
   "outputs": [],
   "source": [
    "pseudo_wsd_test(\"horse\", \"deer\")"
   ]
  },
  {
   "cell_type": "code",
   "execution_count": null,
   "metadata": {},
   "outputs": [],
   "source": [
    "pseudo_wsd_test(\"pie\", \"cake\")"
   ]
  },
  {
   "cell_type": "code",
   "execution_count": null,
   "metadata": {},
   "outputs": [],
   "source": []
  }
 ],
 "metadata": {
  "kernelspec": {
   "display_name": "Python 3",
   "language": "python",
   "name": "python3"
  },
  "language_info": {
   "codemirror_mode": {
    "name": "ipython",
    "version": 3
   },
   "file_extension": ".py",
   "mimetype": "text/x-python",
   "name": "python",
   "nbconvert_exporter": "python",
   "pygments_lexer": "ipython3",
   "version": "3.8.5"
  }
 },
 "nbformat": 4,
 "nbformat_minor": 2
}
