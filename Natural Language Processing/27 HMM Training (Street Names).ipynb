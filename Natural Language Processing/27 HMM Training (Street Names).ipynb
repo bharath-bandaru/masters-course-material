{
 "cells": [
  {
   "cell_type": "code",
   "execution_count": null,
   "metadata": {},
   "outputs": [],
   "source": [
    "import itertools\n",
    "import operator\n",
    "from random import random\n",
    "from matplotlib import pyplot as plt\n",
    "import numpy as np\n",
    "import networkx as nx\n",
    "import pandas as pd\n",
    "import pomegranate\n",
    "from pomegranate import HiddenMarkovModel, DiscreteDistribution, State\n",
    "from sklearn.model_selection import train_test_split\n",
    "import seaborn as sns\n",
    "\n",
    "%matplotlib inline"
   ]
  },
  {
   "cell_type": "markdown",
   "metadata": {},
   "source": [
    "## Get data"
   ]
  },
  {
   "cell_type": "code",
   "execution_count": null,
   "metadata": {},
   "outputs": [],
   "source": [
    "!wget -q -O chicago_streets.csv \\\n",
    " https://data.cityofchicago.org/api/views/i6bp-fvbx/rows.csv?accessType=DOWNLOAD"
   ]
  },
  {
   "cell_type": "code",
   "execution_count": null,
   "metadata": {},
   "outputs": [],
   "source": [
    "streets_df = pd.read_csv(\"chicago_streets.csv\")\n",
    "streets_df.shape"
   ]
  },
  {
   "cell_type": "code",
   "execution_count": null,
   "metadata": {},
   "outputs": [],
   "source": [
    "streets_df.head()"
   ]
  },
  {
   "cell_type": "code",
   "execution_count": null,
   "metadata": {},
   "outputs": [],
   "source": [
    "streets_df[streets_df[\"Suffix Direction\"].str.isalpha()].sample(5)"
   ]
  },
  {
   "cell_type": "markdown",
   "metadata": {},
   "source": [
    "## Create labeled dataset"
   ]
  },
  {
   "cell_type": "code",
   "execution_count": null,
   "metadata": {},
   "outputs": [],
   "source": [
    "streets_df.columns = [x.strip() for x in streets_df.columns]\n",
    "\n",
    "vocab = {y for x in streets_df[\"Full Street Name\"].str.split() for y in x}\n",
    "vocab = sorted(list(vocab))\n",
    "word2idx = {x: i for i, x in enumerate(vocab)}\n",
    "\n",
    "fields = [\"Direction\", \"Street\", \"Suffix\", \"Suffix Direction\"]\n",
    "field_names = {\"Direction\": \"DIR\", \n",
    "               \"Street\": \"STR\", \n",
    "               \"Suffix\": \"SUF\", \n",
    "               \"Suffix Direction\": \"SD\"}\n",
    "def iob2_tag(span, tagname):\n",
    "    if span >= 1:\n",
    "        return [f\"B-{tagname}\"] + [f\"I-{tagname}\" for i in range(span-1)]\n",
    "    return []\n",
    "\n",
    "X = []\n",
    "Y = []\n",
    "for _, row in streets_df.iterrows():\n",
    "    row = row.to_dict()\n",
    "    X.append(np.array(list(itertools.chain.from_iterable([row[x].split() for x in fields]))))\n",
    "    Y.append(list(itertools.chain.from_iterable([iob2_tag(len(row[x].split()), field_names[x]) for x in fields])))"
   ]
  },
  {
   "cell_type": "code",
   "execution_count": null,
   "metadata": {},
   "outputs": [],
   "source": [
    "X[0], Y[0]"
   ]
  },
  {
   "cell_type": "code",
   "execution_count": null,
   "metadata": {},
   "outputs": [],
   "source": [
    "states = sorted(list({y for x in Y for y in x}))\n",
    "num_states = len(states)\n",
    "states"
   ]
  },
  {
   "cell_type": "markdown",
   "metadata": {},
   "source": [
    "## Train HMM using `pomegranate`"
   ]
  },
  {
   "cell_type": "code",
   "execution_count": null,
   "metadata": {},
   "outputs": [],
   "source": [
    "hmm = HiddenMarkovModel()\n",
    "hmmstates = [State(DiscreteDistribution.from_samples(vocab), name=s) for s in states]\n",
    "hmm.add_states(hmmstates)\n",
    "for s1 in hmmstates:\n",
    "    hmm.add_transition(hmm.start, s1, 1.0/len(hmmstates))\n",
    "    for s2 in hmmstates + [hmm.end]:\n",
    "        hmm.add_transition(s1, s2, 1.0/(len(hmmstates)+1))\n",
    "hmm.bake()"
   ]
  },
  {
   "cell_type": "code",
   "execution_count": null,
   "metadata": {},
   "outputs": [],
   "source": [
    "# hmm.fit(sequences=X, labels=Y, algorithm=\"labeled\")\n",
    "\n",
    "# ^ Broken\n",
    "# Implement manually\n",
    "state_dict = {s: i for i, s in enumerate(states)}\n",
    "start_counts = [0 for j in range(num_states)]\n",
    "transition_counts = [[0 for j in range(num_states + 1)] \n",
    "                     for i in range(num_states)]\n",
    "\n",
    "# Iterate through data collecting transition counts\n",
    "for i, y in enumerate(Y):\n",
    "    start_counts[state_dict[y[0]]] += 1\n",
    "    for j, yy in enumerate(y):\n",
    "        if j + 1 == len(y):\n",
    "            transition_counts[state_dict[yy]][-1] += 1\n",
    "        else:\n",
    "            transition_counts[state_dict[yy]][state_dict[y[j+1]]] += 1\n",
    "\n",
    "# Calculate emission probabilities for each state\n",
    "for i, s in enumerate(hmmstates):\n",
    "    assoc_vocab = [X[i][j] for i, y in enumerate(Y) for j, yy in enumerate(y) if yy == s.name]\n",
    "    s.distribution = DiscreteDistribution.from_samples(assoc_vocab)\n",
    "\n",
    "# Calculate transition probabilities for each state pair\n",
    "for i, s in enumerate(hmmstates):\n",
    "    hmm.add_transition(hmm.start, s, start_counts[i]/sum(start_counts))\n",
    "    for j, ss in enumerate(hmmstates):\n",
    "        hmm.add_transition(s, ss, transition_counts[i][j]/sum(transition_counts[i]))\n",
    "    hmm.add_transition(s, hmm.end, transition_counts[i][-1]/sum(transition_counts[i]))\n",
    "    \n",
    "hmm.bake()"
   ]
  },
  {
   "cell_type": "markdown",
   "metadata": {},
   "source": [
    "### Inspect states and transition probabilities"
   ]
  },
  {
   "cell_type": "code",
   "execution_count": null,
   "metadata": {},
   "outputs": [],
   "source": [
    "hmm.states"
   ]
  },
  {
   "cell_type": "code",
   "execution_count": null,
   "metadata": {},
   "outputs": [],
   "source": [
    "def show_states(states):\n",
    "    pd_data = []\n",
    "    for s in states:\n",
    "        if s.distribution:\n",
    "            top_words = sorted(s.distribution.parameters[0].items(), \n",
    "                               key=operator.itemgetter(1), \n",
    "                               reverse=True)[:5]\n",
    "            for w in top_words:\n",
    "                pd_data.append({\"state\": s.name, \"word\": w[0], \"prob\": \"{:0.4f}\".format(w[1])})\n",
    "        else:\n",
    "            pd_data.append({\"state\": s.name, \"word\": \"--\", \"prob\": \"--\"})\n",
    "    display(pd.DataFrame(pd_data, columns=[\"state\", \"word\", \"prob\"]))"
   ]
  },
  {
   "cell_type": "code",
   "execution_count": null,
   "metadata": {},
   "outputs": [],
   "source": [
    "show_states(hmm.states)"
   ]
  },
  {
   "cell_type": "code",
   "execution_count": null,
   "metadata": {},
   "outputs": [],
   "source": [
    "plt.figure(figsize=(12,12))\n",
    "hmm.plot()\n",
    "plt.show()"
   ]
  },
  {
   "cell_type": "code",
   "execution_count": null,
   "metadata": {},
   "outputs": [],
   "source": [
    "def show_transitions(transitions, states):\n",
    "    t_df = pd.DataFrame(transitions, columns=states)\n",
    "    t_df[\"from_state\"] = states\n",
    "    t_df.set_index(\"from_state\", inplace=True)\n",
    "    plt.figure(figsize=(6,5))\n",
    "    ax = sns.heatmap(t_df, annot=True, fmt=\"0.2f\")\n",
    "    plt.xlabel(\"to_state\")\n",
    "    plt.show()"
   ]
  },
  {
   "cell_type": "code",
   "execution_count": null,
   "metadata": {},
   "outputs": [],
   "source": [
    "show_transitions(hmm.dense_transition_matrix(), [x.name for x in hmm.states])"
   ]
  },
  {
   "cell_type": "markdown",
   "metadata": {},
   "source": [
    "### Sample random street names from model"
   ]
  },
  {
   "cell_type": "code",
   "execution_count": null,
   "metadata": {},
   "outputs": [],
   "source": [
    "for samp in hmm.sample(10):\n",
    "    print(\" \".join(list(samp)))"
   ]
  },
  {
   "cell_type": "markdown",
   "metadata": {},
   "source": [
    "### Demonstrate forward and backward probabilities"
   ]
  },
  {
   "cell_type": "code",
   "execution_count": null,
   "metadata": {},
   "outputs": [],
   "source": [
    "test_street = [\"N\", \"CLARK\", \"ST\"]"
   ]
  },
  {
   "cell_type": "code",
   "execution_count": null,
   "metadata": {},
   "outputs": [],
   "source": [
    "def show_fb_matrix(fbm, states):\n",
    "    t_df = pd.DataFrame(fbm, columns=states)\n",
    "    t_df = t_df.T\n",
    "    plt.figure()\n",
    "    ax = sns.heatmap(t_df, annot=True, fmt=\"0.2f\")\n",
    "    plt.xlabel(\"state\")\n",
    "    plt.show()"
   ]
  },
  {
   "cell_type": "code",
   "execution_count": null,
   "metadata": {},
   "outputs": [],
   "source": [
    "f_matrix = hmm.forward(test_street)\n",
    "show_fb_matrix(f_matrix, [x.name for x in hmm.states])"
   ]
  },
  {
   "cell_type": "code",
   "execution_count": null,
   "metadata": {},
   "outputs": [],
   "source": [
    "b_matrix = hmm.backward(test_street)\n",
    "show_fb_matrix(b_matrix, [x.name for x in hmm.states])"
   ]
  },
  {
   "cell_type": "code",
   "execution_count": null,
   "metadata": {},
   "outputs": [],
   "source": [
    "logprob, state_seq = hmm.viterbi(test_street)\n",
    "print(\"Viterbi tag sequence: \")\n",
    "print(f\"  {' '.join([x[1].name for x in state_seq])}\")\n",
    "print(f\"  logprob = {logprob:0.2f}\")"
   ]
  },
  {
   "cell_type": "markdown",
   "metadata": {},
   "source": [
    "## Train HMM unsupervised"
   ]
  },
  {
   "cell_type": "code",
   "execution_count": null,
   "metadata": {},
   "outputs": [],
   "source": [
    "# HMM_INIT = \"uniform\"\n",
    "HMM_INIT = \"random\""
   ]
  },
  {
   "cell_type": "code",
   "execution_count": null,
   "metadata": {},
   "outputs": [],
   "source": [
    "hmm = HiddenMarkovModel()\n",
    "hmmstates = [State(DiscreteDistribution.from_samples(vocab), name=s) \n",
    "             for s in [\"A\", \"B\", \"C\", \"D\", \"E\"]]\n",
    "hmm.add_states(hmmstates)\n",
    "\n",
    "if HMM_INIT == \"uniform\":\n",
    "    for s1 in hmmstates:\n",
    "        hmm.add_transition(hmm.start, s1, 1.0/len(hmmstates))\n",
    "        for s2 in hmmstates + [hmm.end]:\n",
    "            hmm.add_transition(s1, s2, 1.0/(len(hmmstates)+1))\n",
    "else:\n",
    "    transition_matrix = np.random.random((len(hmmstates), len(hmmstates)+1))\n",
    "    transition_matrix = (transition_matrix.T / transition_matrix.sum(axis=1)).T\n",
    "    for i, s1 in enumerate(hmmstates):\n",
    "        hmm.add_transition(hmm.start, s1, 1.0/len(hmmstates))\n",
    "        for j, s2 in enumerate(hmmstates + [hmm.end]):\n",
    "            hmm.add_transition(s1, s2, transition_matrix[i][j])\n",
    "\n",
    "hmm.bake()"
   ]
  },
  {
   "cell_type": "code",
   "execution_count": null,
   "metadata": {},
   "outputs": [],
   "source": [
    "hmm.fit(sequences=X, algorithm=\"baum-welch\", max_iterations=20)"
   ]
  },
  {
   "cell_type": "code",
   "execution_count": null,
   "metadata": {},
   "outputs": [],
   "source": [
    "plt.figure(figsize=(12,12))\n",
    "hmm.plot()\n",
    "plt.show()"
   ]
  },
  {
   "cell_type": "code",
   "execution_count": null,
   "metadata": {},
   "outputs": [],
   "source": [
    "for samp in hmm.sample(10):\n",
    "    print(\" \".join(list(samp)))"
   ]
  },
  {
   "cell_type": "code",
   "execution_count": null,
   "metadata": {},
   "outputs": [],
   "source": [
    "show_states(hmm.states)"
   ]
  },
  {
   "cell_type": "code",
   "execution_count": null,
   "metadata": {},
   "outputs": [],
   "source": [
    "show_transitions(hmm.dense_transition_matrix(), [x.name for x in hmm.states])"
   ]
  },
  {
   "cell_type": "code",
   "execution_count": null,
   "metadata": {},
   "outputs": [],
   "source": []
  }
 ],
 "metadata": {
  "kernelspec": {
   "display_name": "Python 3",
   "language": "python",
   "name": "python3"
  },
  "language_info": {
   "codemirror_mode": {
    "name": "ipython",
    "version": 3
   },
   "file_extension": ".py",
   "mimetype": "text/x-python",
   "name": "python",
   "nbconvert_exporter": "python",
   "pygments_lexer": "ipython3",
   "version": "3.8.5"
  }
 },
 "nbformat": 4,
 "nbformat_minor": 2
}
