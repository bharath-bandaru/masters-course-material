{
 "cells": [
  {
   "cell_type": "code",
   "execution_count": 1,
   "metadata": {},
   "outputs": [],
   "source": [
    "from time import sleep\n",
    "from IPython.core.display import display, HTML"
   ]
  },
  {
   "cell_type": "markdown",
   "metadata": {},
   "source": [
    "### Some initial setup"
   ]
  },
  {
   "cell_type": "code",
   "execution_count": 2,
   "metadata": {},
   "outputs": [],
   "source": [
    "vocabulary = [\"theta\", \"bled\", \"own\", \"the\", \"table\", \"down\", \"there\"]"
   ]
  },
  {
   "cell_type": "markdown",
   "metadata": {},
   "source": [
    "### Greedy matching\n",
    "\n",
    "Grab the longest word we can find at the beginning of the string, then keep doing that"
   ]
  },
  {
   "cell_type": "markdown",
   "metadata": {},
   "source": [
    "### Recursion with backtracking\n",
    "\n",
    "Proceed as above, but when parsing fails, return to the previous choice point and explore an alternative\n"
   ]
  },
  {
   "cell_type": "code",
   "execution_count": 3,
   "metadata": {},
   "outputs": [],
   "source": [
    "def recurse_greedily(sentence, vocab):\n",
    "    for w in vocab:\n",
    "        if w == sentence[:len(w)]:\n",
    "            print(f\"Found {w}\")\n",
    "            sleep(0.5)\n",
    "            tail = sentence[len(w):]\n",
    "            if tail:\n",
    "                tail_parse, success = recurse_greedily(tail, vocab)\n",
    "                return ([w] + tail_parse, success)\n",
    "            else:\n",
    "                return ([w], True)\n",
    "    return ([], False)\n",
    "\n",
    "def recurse_with_backtracking(sentence, vocab):\n",
    "    for w in vocab:\n",
    "        if w == sentence[:len(w)]:\n",
    "            print(f\"Found {w}\")\n",
    "            sleep(0.5)\n",
    "            tail = sentence[len(w):]\n",
    "            if tail:\n",
    "                tail_parse, success = recurse_greedily(tail, vocab)\n",
    "                if success:  # <- Only difference\n",
    "                    return ([w] + tail_parse, success)\n",
    "                else:\n",
    "                    print(\"  Trying again...\")\n",
    "                    sleep(0.5)\n",
    "            else:\n",
    "                return ([w], True)\n",
    "    return ([], False)\n",
    "\n",
    "def tokenize_recursive(sentence, vocab, recurse_fn):\n",
    "    v = list(sorted(vocab, key=len, reverse=True))\n",
    "    parse, success = recurse_fn(sentence, v)\n",
    "    if success:\n",
    "        display(HTML(\"<strong>\" + \" + \".join(parse) + \"</strong>\"))\n",
    "    elif parse:\n",
    "        print(\"Parsing error after [{}]\".format(\" + \".join(parse)))\n",
    "    else:\n",
    "        print(\"Parsing error\")"
   ]
  },
  {
   "cell_type": "code",
   "execution_count": 4,
   "metadata": {},
   "outputs": [
    {
     "name": "stdout",
     "output_type": "stream",
     "text": [
      "Found theta\n",
      "Found bled\n",
      "Found own\n",
      "Found there\n"
     ]
    },
    {
     "data": {
      "text/html": [
       "<strong>theta + bled + own + there</strong>"
      ],
      "text/plain": [
       "<IPython.core.display.HTML object>"
      ]
     },
     "metadata": {},
     "output_type": "display_data"
    }
   ],
   "source": [
    "tokenize_recursive(\"thetabledownthere\", vocabulary, recurse_greedily)"
   ]
  },
  {
   "cell_type": "code",
   "execution_count": 5,
   "metadata": {},
   "outputs": [
    {
     "name": "stdout",
     "output_type": "stream",
     "text": [
      "Found theta\n",
      "Parsing error after [theta]\n"
     ]
    }
   ],
   "source": [
    "tokenize_recursive(\"thetablethere\", vocabulary, recurse_greedily)"
   ]
  },
  {
   "cell_type": "code",
   "execution_count": 6,
   "metadata": {},
   "outputs": [
    {
     "name": "stdout",
     "output_type": "stream",
     "text": [
      "Found theta\n",
      "Found bled\n",
      "Found own\n",
      "Found there\n"
     ]
    },
    {
     "data": {
      "text/html": [
       "<strong>theta + bled + own + there</strong>"
      ],
      "text/plain": [
       "<IPython.core.display.HTML object>"
      ]
     },
     "metadata": {},
     "output_type": "display_data"
    }
   ],
   "source": [
    "tokenize_recursive(\"thetabledownthere\", vocabulary, recurse_with_backtracking)"
   ]
  },
  {
   "cell_type": "code",
   "execution_count": 7,
   "metadata": {},
   "outputs": [
    {
     "name": "stdout",
     "output_type": "stream",
     "text": [
      "Found theta\n",
      "  Trying again...\n",
      "Found the\n",
      "Found table\n",
      "Found there\n"
     ]
    },
    {
     "data": {
      "text/html": [
       "<strong>the + table + there</strong>"
      ],
      "text/plain": [
       "<IPython.core.display.HTML object>"
      ]
     },
     "metadata": {},
     "output_type": "display_data"
    }
   ],
   "source": [
    "tokenize_recursive(\"thetablethere\", vocabulary, recurse_with_backtracking)"
   ]
  },
  {
   "cell_type": "markdown",
   "metadata": {},
   "source": [
    "### Dynamic programming\n",
    "\n",
    "Create a data structure storing intermediate results\n",
    "\n",
    " - in this case, a segmentation spanning from the start of the sentence to a given index in the string\n",
    " \n",
    " "
   ]
  },
  {
   "cell_type": "code",
   "execution_count": 8,
   "metadata": {},
   "outputs": [],
   "source": [
    "def tokenize_dp(sentence, vocab):\n",
    "    chart = {0: []}\n",
    "    for i in range(len(sentence)):\n",
    "        if i in chart.keys():\n",
    "            for w in vocab:\n",
    "                if w == sentence[i:i+len(w)] and i+len(w) not in chart:\n",
    "                    chart[i+len(w)] = chart[i] + [w]\n",
    "                    print(f\"{chart[i]} + {w} = {chart[i+len(w)]}\")\n",
    "                    sleep(0.5)\n",
    "\n",
    "    if len(sentence) in chart.keys():\n",
    "        display(HTML(\"<strong>\" + \" + \".join(chart[len(sentence)]) + \"</strong>\"))\n",
    "\n",
    "    return chart"
   ]
  },
  {
   "cell_type": "code",
   "execution_count": 9,
   "metadata": {},
   "outputs": [
    {
     "name": "stdout",
     "output_type": "stream",
     "text": [
      "[] + theta = ['theta']\n",
      "[] + the = ['the']\n",
      "['the'] + table = ['the', 'table']\n",
      "['the', 'table'] + the = ['the', 'table', 'the']\n",
      "['the', 'table'] + there = ['the', 'table', 'there']\n"
     ]
    },
    {
     "data": {
      "text/html": [
       "<strong>the + table + there</strong>"
      ],
      "text/plain": [
       "<IPython.core.display.HTML object>"
      ]
     },
     "metadata": {},
     "output_type": "display_data"
    },
    {
     "data": {
      "text/plain": [
       "{0: [],\n",
       " 5: ['theta'],\n",
       " 3: ['the'],\n",
       " 8: ['the', 'table'],\n",
       " 11: ['the', 'table', 'the'],\n",
       " 13: ['the', 'table', 'there']}"
      ]
     },
     "execution_count": 9,
     "metadata": {},
     "output_type": "execute_result"
    }
   ],
   "source": [
    "tokenize_dp(\"thetablethere\", vocabulary)"
   ]
  },
  {
   "cell_type": "code",
   "execution_count": null,
   "metadata": {},
   "outputs": [],
   "source": []
  }
 ],
 "metadata": {
  "kernelspec": {
   "display_name": "Python 3",
   "language": "python",
   "name": "python3"
  },
  "language_info": {
   "codemirror_mode": {
    "name": "ipython",
    "version": 3
   },
   "file_extension": ".py",
   "mimetype": "text/x-python",
   "name": "python",
   "nbconvert_exporter": "python",
   "pygments_lexer": "ipython3",
   "version": "3.8.5"
  }
 },
 "nbformat": 4,
 "nbformat_minor": 2
}
